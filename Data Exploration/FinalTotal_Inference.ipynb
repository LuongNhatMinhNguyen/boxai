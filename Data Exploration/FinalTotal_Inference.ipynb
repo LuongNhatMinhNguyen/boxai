{
 "cells": [
  {
   "cell_type": "markdown",
   "id": "e046ea4c",
   "metadata": {},
   "source": [
    "# Final Total Inference Notebook\n",
    "\n",
    "This notebook loads previously saved XGBoost artifacts (Model 1) and performs predictions.\n",
    "It is separated from training for clarity and reproducibility."
   ]
  },
  {
   "cell_type": "code",
   "execution_count": 1,
   "id": "6b1078fe",
   "metadata": {},
   "outputs": [
    {
     "ename": "FileNotFoundError",
     "evalue": "Model file not found: artifacts/final_total\\model.booster.json",
     "output_type": "error",
     "traceback": [
      "\u001b[1;31m---------------------------------------------------------------------------\u001b[0m",
      "\u001b[1;31mFileNotFoundError\u001b[0m                         Traceback (most recent call last)",
      "Cell \u001b[1;32mIn[1], line 3\u001b[0m\n\u001b[0;32m      1\u001b[0m \u001b[38;5;66;03m# 1. Load model artifacts (basic)\u001b[39;00m\n\u001b[0;32m      2\u001b[0m \u001b[38;5;28;01mfrom\u001b[39;00m \u001b[38;5;21;01mboxai\u001b[39;00m\u001b[38;5;21;01m.\u001b[39;00m\u001b[38;5;21;01mmodels\u001b[39;00m\u001b[38;5;21;01m.\u001b[39;00m\u001b[38;5;21;01mfinal_total_predictor\u001b[39;00m \u001b[38;5;28;01mimport\u001b[39;00m FinalTotalPredictor\n\u001b[1;32m----> 3\u001b[0m predictor \u001b[38;5;241m=\u001b[39m \u001b[43mFinalTotalPredictor\u001b[49m\u001b[43m(\u001b[49m\u001b[38;5;124;43m\"\u001b[39;49m\u001b[38;5;124;43martifacts/final_total\u001b[39;49m\u001b[38;5;124;43m\"\u001b[39;49m\u001b[43m)\u001b[49m  \u001b[38;5;66;03m# auto-loads\u001b[39;00m\n\u001b[0;32m      4\u001b[0m \u001b[38;5;28mprint\u001b[39m(\u001b[38;5;124m\"\u001b[39m\u001b[38;5;124mModel loaded from artifacts/final_total.\u001b[39m\u001b[38;5;124m\"\u001b[39m)\n",
      "File \u001b[1;32mc:\\Users\\Nebula PC\\Swinburne\\Intern\\boxai\\Data Exploration\\boxai\\models\\final_total_predictor.py:46\u001b[0m, in \u001b[0;36mFinalTotalPredictor.__init__\u001b[1;34m(self, artifacts_dir, lazy)\u001b[0m\n\u001b[0;32m     44\u001b[0m \u001b[38;5;28mself\u001b[39m\u001b[38;5;241m.\u001b[39m_schema: Dict[\u001b[38;5;28mstr\u001b[39m, Any] \u001b[38;5;241m|\u001b[39m \u001b[38;5;28;01mNone\u001b[39;00m \u001b[38;5;241m=\u001b[39m \u001b[38;5;28;01mNone\u001b[39;00m\n\u001b[0;32m     45\u001b[0m \u001b[38;5;28;01mif\u001b[39;00m \u001b[38;5;129;01mnot\u001b[39;00m lazy:\n\u001b[1;32m---> 46\u001b[0m     \u001b[38;5;28;43mself\u001b[39;49m\u001b[38;5;241;43m.\u001b[39;49m\u001b[43mload\u001b[49m\u001b[43m(\u001b[49m\u001b[43m)\u001b[49m\n",
      "File \u001b[1;32mc:\\Users\\Nebula PC\\Swinburne\\Intern\\boxai\\Data Exploration\\boxai\\models\\final_total_predictor.py:53\u001b[0m, in \u001b[0;36mFinalTotalPredictor.load\u001b[1;34m(self)\u001b[0m\n\u001b[0;32m     51\u001b[0m model_path \u001b[38;5;241m=\u001b[39m os\u001b[38;5;241m.\u001b[39mpath\u001b[38;5;241m.\u001b[39mjoin(\u001b[38;5;28mself\u001b[39m\u001b[38;5;241m.\u001b[39martifacts_dir, \u001b[38;5;28mself\u001b[39m\u001b[38;5;241m.\u001b[39mMODEL_FILE)\n\u001b[0;32m     52\u001b[0m \u001b[38;5;28;01mif\u001b[39;00m \u001b[38;5;129;01mnot\u001b[39;00m os\u001b[38;5;241m.\u001b[39mpath\u001b[38;5;241m.\u001b[39misfile(model_path):\n\u001b[1;32m---> 53\u001b[0m     \u001b[38;5;28;01mraise\u001b[39;00m \u001b[38;5;167;01mFileNotFoundError\u001b[39;00m(\u001b[38;5;124mf\u001b[39m\u001b[38;5;124m\"\u001b[39m\u001b[38;5;124mModel file not found: \u001b[39m\u001b[38;5;132;01m{\u001b[39;00mmodel_path\u001b[38;5;132;01m}\u001b[39;00m\u001b[38;5;124m\"\u001b[39m)\n\u001b[0;32m     54\u001b[0m booster \u001b[38;5;241m=\u001b[39m xgb\u001b[38;5;241m.\u001b[39mBooster()\n\u001b[0;32m     55\u001b[0m booster\u001b[38;5;241m.\u001b[39mload_model(model_path)\n",
      "\u001b[1;31mFileNotFoundError\u001b[0m: Model file not found: artifacts/final_total\\model.booster.json"
     ]
    }
   ],
   "source": [
    "# 1. Load model artifacts (basic)\n",
    "from boxai.models.final_total_predictor import FinalTotalPredictor\n",
    "predictor = FinalTotalPredictor(\"artifacts/final_total\")  # auto-loads\n",
    "print(\"Model loaded from artifacts/final_total.\")"
   ]
  },
  {
   "cell_type": "code",
   "execution_count": null,
   "id": "bc482265",
   "metadata": {},
   "outputs": [],
   "source": [
    "# 2. Single prediction (change the number)\n",
    "wk1_value = 1200000.0  # <- edit this value\n",
    "prediction = predictor.predict_one({\"wk1_total\": wk1_value})\n",
    "print(f\"wk1_total = {wk1_value} -> predicted final_total = {prediction:,.2f}\")"
   ]
  },
  {
   "cell_type": "code",
   "execution_count": null,
   "id": "7d4c9207",
   "metadata": {},
   "outputs": [],
   "source": [
    "# 3. Batch prediction (edit the list)\n",
    "import pandas as pd\n",
    "wk1_list = [100000, 502300, 120300]\n",
    "df = pd.DataFrame({\"wk1_total\": wk1_list})\n",
    "batch_preds = predictor.predict(df)\n",
    "print(df.assign(pred_final_total=batch_preds))"
   ]
  }
 ],
 "metadata": {
  "kernelspec": {
   "display_name": "Python 3",
   "language": "python",
   "name": "python3"
  },
  "language_info": {
   "codemirror_mode": {
    "name": "ipython",
    "version": 3
   },
   "file_extension": ".py",
   "mimetype": "text/x-python",
   "name": "python",
   "nbconvert_exporter": "python",
   "pygments_lexer": "ipython3",
   "version": "3.13.0"
  }
 },
 "nbformat": 4,
 "nbformat_minor": 5
}
