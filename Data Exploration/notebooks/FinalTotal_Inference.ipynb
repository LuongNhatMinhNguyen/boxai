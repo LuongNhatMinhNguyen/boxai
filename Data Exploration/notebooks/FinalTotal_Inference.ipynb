{
 "cells": [
  {
   "cell_type": "markdown",
   "id": "d03e0af9",
   "metadata": {},
   "source": [
    "# Final Total Inference Notebook\n",
    "\n",
    "Loads saved XGBoost artifacts for Model 1 and performs predictions.\n",
    "Keep this notebook minimal for inference only."
   ]
  },
  {
   "cell_type": "code",
   "execution_count": 1,
   "id": "e21a616b",
   "metadata": {},
   "outputs": [
    {
     "name": "stdout",
     "output_type": "stream",
     "text": [
      "Model loaded from ../artifacts/final_total.\n"
     ]
    }
   ],
   "source": [
    "# 1. Load model artifacts (root-level artifacts folder)\n",
    "import os, sys\n",
    "# Ensure project root (parent of notebooks) is on sys.path for 'boxai' package\n",
    "PARENT_DIR = os.path.abspath(os.path.join(os.getcwd(), '..'))\n",
    "if PARENT_DIR not in sys.path:\n",
    "    sys.path.insert(0, PARENT_DIR)\n",
    "\n",
    "from boxai.models.final_total_predictor import FinalTotalPredictor\n",
    "predictor = FinalTotalPredictor(\"../artifacts/final_total\")  # auto-loads from project root\n",
    "print(\"Model loaded from ../artifacts/final_total.\")"
   ]
  },
  {
   "cell_type": "code",
   "execution_count": 6,
   "id": "998c700e",
   "metadata": {},
   "outputs": [
    {
     "name": "stdout",
     "output_type": "stream",
     "text": [
      "wk1_total = 100 -> predicted final_total = 39,524.62\n"
     ]
    }
   ],
   "source": [
    "# 2. Single prediction (edit wk1_value)\n",
    "wk1_value = 100\n",
    "pred = predictor.predict_one({\"wk1_total\": wk1_value})\n",
    "print(f\"wk1_total = {wk1_value} -> predicted final_total = {pred:,.2f}\")"
   ]
  },
  {
   "cell_type": "code",
   "execution_count": null,
   "id": "b45d2f56",
   "metadata": {},
   "outputs": [],
   "source": [
    "# 3. Batch prediction (edit list)\n",
    "import pandas as pd\n",
    "wk1_list = [100000, 502300, 120300]\n",
    "df = pd.DataFrame({\"wk1_total\": wk1_list})\n",
    "batch_preds = predictor.predict(df)\n",
    "print(df.assign(pred_final_total=batch_preds))"
   ]
  }
 ],
 "metadata": {
  "kernelspec": {
   "display_name": "Python 3",
   "language": "python",
   "name": "python3"
  },
  "language_info": {
   "codemirror_mode": {
    "name": "ipython",
    "version": 3
   },
   "file_extension": ".py",
   "mimetype": "text/x-python",
   "name": "python",
   "nbconvert_exporter": "python",
   "pygments_lexer": "ipython3",
   "version": "3.13.0"
  }
 },
 "nbformat": 4,
 "nbformat_minor": 5
}
